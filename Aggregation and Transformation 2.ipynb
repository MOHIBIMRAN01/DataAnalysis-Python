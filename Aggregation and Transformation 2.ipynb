{
 "cells": [
  {
   "cell_type": "code",
   "execution_count": 1,
   "id": "a12c68c9-981c-4bce-a585-f3371022e50a",
   "metadata": {},
   "outputs": [],
   "source": [
    "import pandas as pd"
   ]
  },
  {
   "cell_type": "code",
   "execution_count": 5,
   "id": "f2b6b057-9be3-457f-a689-4119ecaf604b",
   "metadata": {},
   "outputs": [
    {
     "data": {
      "text/html": [
       "<div>\n",
       "<style scoped>\n",
       "    .dataframe tbody tr th:only-of-type {\n",
       "        vertical-align: middle;\n",
       "    }\n",
       "\n",
       "    .dataframe tbody tr th {\n",
       "        vertical-align: top;\n",
       "    }\n",
       "\n",
       "    .dataframe thead th {\n",
       "        text-align: right;\n",
       "    }\n",
       "</style>\n",
       "<table border=\"1\" class=\"dataframe\">\n",
       "  <thead>\n",
       "    <tr style=\"text-align: right;\">\n",
       "      <th></th>\n",
       "      <th>date</th>\n",
       "      <th>gender</th>\n",
       "      <th>region</th>\n",
       "      <th>sales</th>\n",
       "    </tr>\n",
       "  </thead>\n",
       "  <tbody>\n",
       "    <tr>\n",
       "      <th>0</th>\n",
       "      <td>8/22/2022</td>\n",
       "      <td>Male</td>\n",
       "      <td>North-West</td>\n",
       "      <td>20381</td>\n",
       "    </tr>\n",
       "    <tr>\n",
       "      <th>1</th>\n",
       "      <td>3/5/2022</td>\n",
       "      <td>Male</td>\n",
       "      <td>North-East</td>\n",
       "      <td>14495</td>\n",
       "    </tr>\n",
       "    <tr>\n",
       "      <th>2</th>\n",
       "      <td>2/9/2022</td>\n",
       "      <td>Male</td>\n",
       "      <td>North-East</td>\n",
       "      <td>13510</td>\n",
       "    </tr>\n",
       "    <tr>\n",
       "      <th>3</th>\n",
       "      <td>6/22/2022</td>\n",
       "      <td>Male</td>\n",
       "      <td>North-East</td>\n",
       "      <td>15983</td>\n",
       "    </tr>\n",
       "    <tr>\n",
       "      <th>4</th>\n",
       "      <td>8/10/2022</td>\n",
       "      <td>Female</td>\n",
       "      <td>North-West</td>\n",
       "      <td>15007</td>\n",
       "    </tr>\n",
       "  </tbody>\n",
       "</table>\n",
       "</div>"
      ],
      "text/plain": [
       "        date  gender      region  sales\n",
       "0  8/22/2022    Male  North-West  20381\n",
       "1   3/5/2022    Male  North-East  14495\n",
       "2   2/9/2022    Male  North-East  13510\n",
       "3  6/22/2022    Male  North-East  15983\n",
       "4  8/10/2022  Female  North-West  15007"
      ]
     },
     "execution_count": 5,
     "metadata": {},
     "output_type": "execute_result"
    }
   ],
   "source": [
    "df = pd.read_csv(r\"C:\\Users\\pc\\Desktop\\sales.csv\")\n",
    "df.head()"
   ]
  },
  {
   "cell_type": "code",
   "execution_count": 11,
   "id": "1eae7278-b859-4f6e-975c-13fbe19e65b8",
   "metadata": {},
   "outputs": [
    {
     "data": {
      "text/plain": [
       "<pandas.core.groupby.generic.DataFrameGroupBy object at 0x000002164DDA5BE0>"
      ]
     },
     "execution_count": 11,
     "metadata": {},
     "output_type": "execute_result"
    }
   ],
   "source": [
    "x = df.groupby('region')\n",
    "x"
   ]
  },
  {
   "cell_type": "code",
   "execution_count": 13,
   "id": "6962dec0-f50f-4f3b-be30-ee4cee040202",
   "metadata": {},
   "outputs": [
    {
     "data": {
      "text/plain": [
       "3"
      ]
     },
     "execution_count": 13,
     "metadata": {},
     "output_type": "execute_result"
    }
   ],
   "source": [
    "x.ngroups"
   ]
  },
  {
   "cell_type": "code",
   "execution_count": 15,
   "id": "84ee117f-b89c-4bcf-8a84-f35c4bffc04f",
   "metadata": {},
   "outputs": [
    {
     "data": {
      "text/plain": [
       "{'North-East': [1, 2, 3, 12, 13, 14, 15, 18, 19, 23, 24, 25, 26, 28, 31, 35, 40, 41, 45, 50, 51, 58, 59, 60, 63, 64, 67, 68, 72, 75, 76, 77, 80, 82, 83, 85, 87, 92, 94, 100, 105, 108, 109, 112, 113, 114, 115, 120, 121, 125, 127, 130, 134, 138, 139, 140, 141, 142, 146, 149, 155, 157, 164, 165, 176, 177, 179, 180, 188, 191, 193, 195, 199, 201, 205, 207, 211, 216, 218, 222, 224, 228, 231, 236, 242, 243, 246, 249, 254, 256, 259, 264, 265, 271, 272, 280, 283, 287, 288, 289, ...], 'North-West': [0, 4, 7, 11, 16, 17, 21, 29, 30, 34, 36, 38, 39, 42, 43, 44, 46, 48, 49, 52, 55, 56, 62, 66, 70, 71, 74, 79, 88, 89, 90, 91, 95, 98, 99, 103, 106, 116, 117, 119, 122, 123, 128, 129, 132, 137, 143, 144, 147, 148, 151, 153, 154, 156, 160, 161, 169, 171, 175, 178, 184, 185, 186, 198, 204, 206, 209, 212, 217, 221, 223, 225, 230, 233, 234, 235, 237, 240, 244, 251, 252, 253, 255, 260, 261, 263, 266, 267, 277, 278, 281, 285, 290, 291, 296, 297, 300, 318, 320, 321, ...], 'South': [5, 6, 8, 9, 10, 20, 22, 27, 32, 33, 37, 47, 53, 54, 57, 61, 65, 69, 73, 78, 81, 84, 86, 93, 96, 97, 101, 102, 104, 107, 110, 111, 118, 124, 126, 131, 133, 135, 136, 145, 150, 152, 158, 159, 162, 163, 166, 167, 168, 170, 172, 173, 174, 181, 182, 183, 187, 189, 190, 192, 194, 196, 197, 200, 202, 203, 208, 210, 213, 214, 215, 219, 220, 226, 227, 229, 232, 238, 239, 241, 245, 247, 248, 250, 257, 258, 262, 268, 269, 270, 273, 274, 275, 276, 279, 282, 284, 286, 292, 294, ...]}"
      ]
     },
     "execution_count": 15,
     "metadata": {},
     "output_type": "execute_result"
    }
   ],
   "source": [
    "x.groups"
   ]
  },
  {
   "cell_type": "code",
   "execution_count": 17,
   "id": "6c9bb3a0-d5a0-4a8e-8511-2c682ff80955",
   "metadata": {},
   "outputs": [
    {
     "data": {
      "text/plain": [
       "dict_keys(['North-East', 'North-West', 'South'])"
      ]
     },
     "execution_count": 17,
     "metadata": {},
     "output_type": "execute_result"
    }
   ],
   "source": [
    "x.groups.keys()"
   ]
  },
  {
   "cell_type": "code",
   "execution_count": 21,
   "id": "5f727b7b-e10f-4630-bd49-f24ecd5f93cf",
   "metadata": {},
   "outputs": [
    {
     "data": {
      "text/html": [
       "<div>\n",
       "<style scoped>\n",
       "    .dataframe tbody tr th:only-of-type {\n",
       "        vertical-align: middle;\n",
       "    }\n",
       "\n",
       "    .dataframe tbody tr th {\n",
       "        vertical-align: top;\n",
       "    }\n",
       "\n",
       "    .dataframe thead th {\n",
       "        text-align: right;\n",
       "    }\n",
       "</style>\n",
       "<table border=\"1\" class=\"dataframe\">\n",
       "  <thead>\n",
       "    <tr style=\"text-align: right;\">\n",
       "      <th></th>\n",
       "      <th>date</th>\n",
       "      <th>gender</th>\n",
       "      <th>region</th>\n",
       "      <th>sales</th>\n",
       "    </tr>\n",
       "  </thead>\n",
       "  <tbody>\n",
       "    <tr>\n",
       "      <th>5</th>\n",
       "      <td>9/6/2022</td>\n",
       "      <td>Male</td>\n",
       "      <td>South</td>\n",
       "      <td>21792</td>\n",
       "    </tr>\n",
       "    <tr>\n",
       "      <th>6</th>\n",
       "      <td>8/21/2022</td>\n",
       "      <td>Male</td>\n",
       "      <td>South</td>\n",
       "      <td>20113</td>\n",
       "    </tr>\n",
       "    <tr>\n",
       "      <th>8</th>\n",
       "      <td>11/22/2022</td>\n",
       "      <td>Male</td>\n",
       "      <td>South</td>\n",
       "      <td>14594</td>\n",
       "    </tr>\n",
       "    <tr>\n",
       "      <th>9</th>\n",
       "      <td>1/16/2022</td>\n",
       "      <td>Female</td>\n",
       "      <td>South</td>\n",
       "      <td>24114</td>\n",
       "    </tr>\n",
       "    <tr>\n",
       "      <th>10</th>\n",
       "      <td>12/21/2022</td>\n",
       "      <td>Male</td>\n",
       "      <td>South</td>\n",
       "      <td>35154</td>\n",
       "    </tr>\n",
       "    <tr>\n",
       "      <th>...</th>\n",
       "      <td>...</td>\n",
       "      <td>...</td>\n",
       "      <td>...</td>\n",
       "      <td>...</td>\n",
       "    </tr>\n",
       "    <tr>\n",
       "      <th>972</th>\n",
       "      <td>6/9/2022</td>\n",
       "      <td>Male</td>\n",
       "      <td>South</td>\n",
       "      <td>22254</td>\n",
       "    </tr>\n",
       "    <tr>\n",
       "      <th>979</th>\n",
       "      <td>11/24/2022</td>\n",
       "      <td>Female</td>\n",
       "      <td>South</td>\n",
       "      <td>25591</td>\n",
       "    </tr>\n",
       "    <tr>\n",
       "      <th>981</th>\n",
       "      <td>12/5/2022</td>\n",
       "      <td>Male</td>\n",
       "      <td>South</td>\n",
       "      <td>34334</td>\n",
       "    </tr>\n",
       "    <tr>\n",
       "      <th>985</th>\n",
       "      <td>12/1/2022</td>\n",
       "      <td>Female</td>\n",
       "      <td>South</td>\n",
       "      <td>21282</td>\n",
       "    </tr>\n",
       "    <tr>\n",
       "      <th>994</th>\n",
       "      <td>9/29/2022</td>\n",
       "      <td>Male</td>\n",
       "      <td>South</td>\n",
       "      <td>21255</td>\n",
       "    </tr>\n",
       "  </tbody>\n",
       "</table>\n",
       "<p>331 rows × 4 columns</p>\n",
       "</div>"
      ],
      "text/plain": [
       "           date  gender region  sales\n",
       "5      9/6/2022    Male  South  21792\n",
       "6     8/21/2022    Male  South  20113\n",
       "8    11/22/2022    Male  South  14594\n",
       "9     1/16/2022  Female  South  24114\n",
       "10   12/21/2022    Male  South  35154\n",
       "..          ...     ...    ...    ...\n",
       "972    6/9/2022    Male  South  22254\n",
       "979  11/24/2022  Female  South  25591\n",
       "981   12/5/2022    Male  South  34334\n",
       "985   12/1/2022  Female  South  21282\n",
       "994   9/29/2022    Male  South  21255\n",
       "\n",
       "[331 rows x 4 columns]"
      ]
     },
     "execution_count": 21,
     "metadata": {},
     "output_type": "execute_result"
    }
   ],
   "source": [
    "x.get_group('South')"
   ]
  },
  {
   "cell_type": "code",
   "execution_count": 23,
   "id": "11ef80e8-61b3-4580-9223-d0b6c58d75f3",
   "metadata": {},
   "outputs": [
    {
     "name": "stdout",
     "output_type": "stream",
     "text": [
      "            Average Sales\n",
      "North-West   15257.732919\n",
      "North-East   17386.072046\n",
      "South        24466.864048\n"
     ]
    }
   ],
   "source": [
    "averages = {}\n",
    "for region in df['region'].unique():\n",
    "    tempdf = df[df['region'] == region]\n",
    "    average = tempdf['sales'].mean()\n",
    "    averages[region] = [average]\n",
    "aggregate_df = pd.DataFrame.from_dict(averages, orient='index', columns=['Average Sales'])\n",
    "print(aggregate_df)"
   ]
  },
  {
   "cell_type": "code",
   "execution_count": 25,
   "id": "bfab1ede-bf54-49de-8726-53e7eeac85ea",
   "metadata": {},
   "outputs": [
    {
     "data": {
      "text/plain": [
       "region\n",
       "North-East    2032.541552\n",
       "North-West    3621.456493\n",
       "South         5253.702513\n",
       "Name: sales, dtype: float64"
      ]
     },
     "execution_count": 25,
     "metadata": {},
     "output_type": "execute_result"
    }
   ],
   "source": [
    "std = df.groupby('region')['sales'].std()\n",
    "std"
   ]
  },
  {
   "cell_type": "code",
   "execution_count": 27,
   "id": "5ac74314-a7f9-4b43-bab1-61cedcafb3ce",
   "metadata": {},
   "outputs": [],
   "source": [
    "import numpy as np"
   ]
  },
  {
   "cell_type": "code",
   "execution_count": 29,
   "id": "f8119045-d5ef-46ea-a95f-be2c50cc256a",
   "metadata": {},
   "outputs": [
    {
     "name": "stderr",
     "output_type": "stream",
     "text": [
      "C:\\Users\\pc\\AppData\\Local\\Temp\\ipykernel_8972\\3342482241.py:1: FutureWarning: The provided callable <function mean at 0x000002164DEFE0C0> is currently using SeriesGroupBy.mean. In a future version of pandas, the provided callable will be used directly. To keep current behavior pass the string \"mean\" instead.\n",
      "  aggs = df.groupby('region')['sales'].agg([np.mean,np.std,np.var])\n",
      "C:\\Users\\pc\\AppData\\Local\\Temp\\ipykernel_8972\\3342482241.py:1: FutureWarning: The provided callable <function std at 0x000002164DEFE200> is currently using SeriesGroupBy.std. In a future version of pandas, the provided callable will be used directly. To keep current behavior pass the string \"std\" instead.\n",
      "  aggs = df.groupby('region')['sales'].agg([np.mean,np.std,np.var])\n",
      "C:\\Users\\pc\\AppData\\Local\\Temp\\ipykernel_8972\\3342482241.py:1: FutureWarning: The provided callable <function var at 0x000002164DEFE340> is currently using SeriesGroupBy.var. In a future version of pandas, the provided callable will be used directly. To keep current behavior pass the string \"var\" instead.\n",
      "  aggs = df.groupby('region')['sales'].agg([np.mean,np.std,np.var])\n"
     ]
    },
    {
     "data": {
      "text/html": [
       "<div>\n",
       "<style scoped>\n",
       "    .dataframe tbody tr th:only-of-type {\n",
       "        vertical-align: middle;\n",
       "    }\n",
       "\n",
       "    .dataframe tbody tr th {\n",
       "        vertical-align: top;\n",
       "    }\n",
       "\n",
       "    .dataframe thead th {\n",
       "        text-align: right;\n",
       "    }\n",
       "</style>\n",
       "<table border=\"1\" class=\"dataframe\">\n",
       "  <thead>\n",
       "    <tr style=\"text-align: right;\">\n",
       "      <th></th>\n",
       "      <th>mean</th>\n",
       "      <th>std</th>\n",
       "      <th>var</th>\n",
       "    </tr>\n",
       "    <tr>\n",
       "      <th>region</th>\n",
       "      <th></th>\n",
       "      <th></th>\n",
       "      <th></th>\n",
       "    </tr>\n",
       "  </thead>\n",
       "  <tbody>\n",
       "    <tr>\n",
       "      <th>North-East</th>\n",
       "      <td>17386.072046</td>\n",
       "      <td>2032.541552</td>\n",
       "      <td>4.131225e+06</td>\n",
       "    </tr>\n",
       "    <tr>\n",
       "      <th>North-West</th>\n",
       "      <td>15257.732919</td>\n",
       "      <td>3621.456493</td>\n",
       "      <td>1.311495e+07</td>\n",
       "    </tr>\n",
       "    <tr>\n",
       "      <th>South</th>\n",
       "      <td>24466.864048</td>\n",
       "      <td>5253.702513</td>\n",
       "      <td>2.760139e+07</td>\n",
       "    </tr>\n",
       "  </tbody>\n",
       "</table>\n",
       "</div>"
      ],
      "text/plain": [
       "                    mean          std           var\n",
       "region                                             \n",
       "North-East  17386.072046  2032.541552  4.131225e+06\n",
       "North-West  15257.732919  3621.456493  1.311495e+07\n",
       "South       24466.864048  5253.702513  2.760139e+07"
      ]
     },
     "execution_count": 29,
     "metadata": {},
     "output_type": "execute_result"
    }
   ],
   "source": [
    "aggs = df.groupby('region')['sales'].agg([np.mean,np.std,np.var])\n",
    "aggs"
   ]
  },
  {
   "cell_type": "code",
   "execution_count": 31,
   "id": "217e0729-103e-45ee-af66-4b829a98c323",
   "metadata": {},
   "outputs": [],
   "source": [
    "df['percentage of regional sales'] = df['sales']/df.groupby('region')['sales'].transform('sum')\n"
   ]
  },
  {
   "cell_type": "code",
   "execution_count": 33,
   "id": "c5a848e5-af08-4799-baec-7ba5543c80b7",
   "metadata": {},
   "outputs": [
    {
     "data": {
      "text/html": [
       "<div>\n",
       "<style scoped>\n",
       "    .dataframe tbody tr th:only-of-type {\n",
       "        vertical-align: middle;\n",
       "    }\n",
       "\n",
       "    .dataframe tbody tr th {\n",
       "        vertical-align: top;\n",
       "    }\n",
       "\n",
       "    .dataframe thead th {\n",
       "        text-align: right;\n",
       "    }\n",
       "</style>\n",
       "<table border=\"1\" class=\"dataframe\">\n",
       "  <thead>\n",
       "    <tr style=\"text-align: right;\">\n",
       "      <th></th>\n",
       "      <th>date</th>\n",
       "      <th>gender</th>\n",
       "      <th>region</th>\n",
       "      <th>sales</th>\n",
       "      <th>percentage of regional sales</th>\n",
       "    </tr>\n",
       "  </thead>\n",
       "  <tbody>\n",
       "    <tr>\n",
       "      <th>0</th>\n",
       "      <td>8/22/2022</td>\n",
       "      <td>Male</td>\n",
       "      <td>North-West</td>\n",
       "      <td>20381</td>\n",
       "      <td>0.004148</td>\n",
       "    </tr>\n",
       "    <tr>\n",
       "      <th>1</th>\n",
       "      <td>3/5/2022</td>\n",
       "      <td>Male</td>\n",
       "      <td>North-East</td>\n",
       "      <td>14495</td>\n",
       "      <td>0.002403</td>\n",
       "    </tr>\n",
       "    <tr>\n",
       "      <th>2</th>\n",
       "      <td>2/9/2022</td>\n",
       "      <td>Male</td>\n",
       "      <td>North-East</td>\n",
       "      <td>13510</td>\n",
       "      <td>0.002239</td>\n",
       "    </tr>\n",
       "    <tr>\n",
       "      <th>3</th>\n",
       "      <td>6/22/2022</td>\n",
       "      <td>Male</td>\n",
       "      <td>North-East</td>\n",
       "      <td>15983</td>\n",
       "      <td>0.002649</td>\n",
       "    </tr>\n",
       "    <tr>\n",
       "      <th>4</th>\n",
       "      <td>8/10/2022</td>\n",
       "      <td>Female</td>\n",
       "      <td>North-West</td>\n",
       "      <td>15007</td>\n",
       "      <td>0.003055</td>\n",
       "    </tr>\n",
       "  </tbody>\n",
       "</table>\n",
       "</div>"
      ],
      "text/plain": [
       "        date  gender      region  sales  percentage of regional sales\n",
       "0  8/22/2022    Male  North-West  20381                      0.004148\n",
       "1   3/5/2022    Male  North-East  14495                      0.002403\n",
       "2   2/9/2022    Male  North-East  13510                      0.002239\n",
       "3  6/22/2022    Male  North-East  15983                      0.002649\n",
       "4  8/10/2022  Female  North-West  15007                      0.003055"
      ]
     },
     "execution_count": 33,
     "metadata": {},
     "output_type": "execute_result"
    }
   ],
   "source": [
    "df.head()"
   ]
  },
  {
   "cell_type": "code",
   "execution_count": 35,
   "id": "ec0fdefe-25fa-48c1-9590-5fe9dbd3bf29",
   "metadata": {},
   "outputs": [
    {
     "data": {
      "text/html": [
       "<div>\n",
       "<style scoped>\n",
       "    .dataframe tbody tr th:only-of-type {\n",
       "        vertical-align: middle;\n",
       "    }\n",
       "\n",
       "    .dataframe tbody tr th {\n",
       "        vertical-align: top;\n",
       "    }\n",
       "\n",
       "    .dataframe thead th {\n",
       "        text-align: right;\n",
       "    }\n",
       "</style>\n",
       "<table border=\"1\" class=\"dataframe\">\n",
       "  <thead>\n",
       "    <tr style=\"text-align: right;\">\n",
       "      <th></th>\n",
       "      <th>date</th>\n",
       "      <th>gender</th>\n",
       "      <th>region</th>\n",
       "      <th>sales</th>\n",
       "      <th>percentage of regional sales</th>\n",
       "      <th>ranked</th>\n",
       "    </tr>\n",
       "  </thead>\n",
       "  <tbody>\n",
       "    <tr>\n",
       "      <th>61</th>\n",
       "      <td>2/22/2022</td>\n",
       "      <td>Female</td>\n",
       "      <td>South</td>\n",
       "      <td>43775</td>\n",
       "      <td>0.005405</td>\n",
       "      <td>1.0</td>\n",
       "    </tr>\n",
       "    <tr>\n",
       "      <th>673</th>\n",
       "      <td>4/19/2022</td>\n",
       "      <td>Male</td>\n",
       "      <td>South</td>\n",
       "      <td>37878</td>\n",
       "      <td>0.004677</td>\n",
       "      <td>2.0</td>\n",
       "    </tr>\n",
       "    <tr>\n",
       "      <th>111</th>\n",
       "      <td>10/31/2022</td>\n",
       "      <td>Female</td>\n",
       "      <td>South</td>\n",
       "      <td>36444</td>\n",
       "      <td>0.004500</td>\n",
       "      <td>3.0</td>\n",
       "    </tr>\n",
       "    <tr>\n",
       "      <th>892</th>\n",
       "      <td>9/5/2022</td>\n",
       "      <td>Male</td>\n",
       "      <td>South</td>\n",
       "      <td>35723</td>\n",
       "      <td>0.004411</td>\n",
       "      <td>4.0</td>\n",
       "    </tr>\n",
       "    <tr>\n",
       "      <th>136</th>\n",
       "      <td>2/27/2022</td>\n",
       "      <td>Male</td>\n",
       "      <td>South</td>\n",
       "      <td>35485</td>\n",
       "      <td>0.004382</td>\n",
       "      <td>5.0</td>\n",
       "    </tr>\n",
       "  </tbody>\n",
       "</table>\n",
       "</div>"
      ],
      "text/plain": [
       "           date  gender region  sales  percentage of regional sales  ranked\n",
       "61    2/22/2022  Female  South  43775                      0.005405     1.0\n",
       "673   4/19/2022    Male  South  37878                      0.004677     2.0\n",
       "111  10/31/2022  Female  South  36444                      0.004500     3.0\n",
       "892    9/5/2022    Male  South  35723                      0.004411     4.0\n",
       "136   2/27/2022    Male  South  35485                      0.004382     5.0"
      ]
     },
     "execution_count": 35,
     "metadata": {},
     "output_type": "execute_result"
    }
   ],
   "source": [
    "# Transforming a DataFrame with GroupBy\n",
    "df['ranked'] = df.groupby('region')['sales'].rank(ascending=False)\n",
    "df.sort_values(by='sales', ascending=False).head()"
   ]
  },
  {
   "cell_type": "code",
   "execution_count": 37,
   "id": "978262eb-7229-4b41-8404-ce40a5b00bf8",
   "metadata": {},
   "outputs": [
    {
     "name": "stdout",
     "output_type": "stream",
     "text": [
      "        date  gender      region  sales  percentage of regional sales  ranked\n",
      "0  8/22/2022    Male  North-West  20381                      0.004148    26.0\n",
      "1   3/5/2022    Male  North-East  14495                      0.002403   315.0\n",
      "2   2/9/2022    Male  North-East  13510                      0.002239   338.0\n",
      "3  6/22/2022    Male  North-East  15983                      0.002649   266.0\n",
      "4  8/10/2022  Female  North-West  15007                      0.003055   174.5\n"
     ]
    }
   ],
   "source": [
    "# Filtering Rows Where the Group's Average Sale Price is Less Than 20,000\n",
    "df = df.groupby('region').filter(lambda x: x['sales'].mean() < 20000)\n",
    "print(df.head())"
   ]
  },
  {
   "cell_type": "code",
   "execution_count": 39,
   "id": "e3a9a477-7b42-4d48-92c2-9be80cfe0880",
   "metadata": {},
   "outputs": [
    {
     "name": "stdout",
     "output_type": "stream",
     "text": [
      "                                                                date    sales  \\\n",
      "region     gender                                                               \n",
      "North-East Female  11/25/20228/14/20222/24/20228/3/20227/6/20224/...  3051132   \n",
      "           Male    3/5/20222/9/20226/22/20222/3/20221/15/20228/19...  2981835   \n",
      "North-West Female  8/10/20224/30/20227/30/20228/7/202210/28/20221...  2455899   \n",
      "           Male    8/22/20227/8/20224/18/20224/18/20225/6/20224/8...  2457091   \n",
      "\n",
      "                   percentage of regional sales   ranked  \n",
      "region     gender                                         \n",
      "North-East Female                      0.505743  32087.0  \n",
      "           Male                        0.494257  28291.0  \n",
      "North-West Female                      0.499879  26031.5  \n",
      "           Male                        0.500121  25971.5  \n"
     ]
    }
   ],
   "source": [
    "# Grouping Data by Multiple Columns\n",
    "sums = df.groupby(['region', 'gender']).sum()\n",
    "print(sums.head())"
   ]
  },
  {
   "cell_type": "code",
   "execution_count": 41,
   "id": "4c35ac32-e5ff-44f4-8a2d-9016da1f67bb",
   "metadata": {},
   "outputs": [
    {
     "name": "stdout",
     "output_type": "stream",
     "text": [
      "                     sales  percentage of regional sales   ranked\n",
      "region     gender                                                \n",
      "North-East Female  3051132                      0.505743  32087.0\n",
      "           Male    2981835                      0.494257  28291.0\n",
      "North-West Female  2455899                      0.499879  26031.5\n",
      "           Male    2457091                      0.500121  25971.5\n"
     ]
    }
   ],
   "source": [
    "# Grouping by 'region' and 'gender'\n",
    "groups = df.groupby(['region', 'gender'])\n",
    "\n",
    "# Select only numeric columns\n",
    "numeric_columns = df.select_dtypes(include='number').columns\n",
    "\n",
    "# Apply the sum operation only to numeric columns\n",
    "sums = groups[numeric_columns].sum()\n",
    "\n",
    "# View the result\n",
    "print(sums)\n"
   ]
  },
  {
   "cell_type": "code",
   "execution_count": 43,
   "id": "98570346-37c7-4bc0-b87f-69cd8361cf92",
   "metadata": {},
   "outputs": [
    {
     "name": "stdout",
     "output_type": "stream",
     "text": [
      "        date  gender      region  sales  percentage of regional sales  ranked  \\\n",
      "0  8/22/2022    Male  North-West  20381                      0.004148    26.0   \n",
      "1   3/5/2022    Male  North-East  14495                      0.002403   315.0   \n",
      "2   2/9/2022    Male  North-East  13510                      0.002239   338.0   \n",
      "3  6/22/2022    Male  North-East  15983                      0.002649   266.0   \n",
      "4  8/10/2022  Female  North-West  15007                      0.003055   174.5   \n",
      "\n",
      "    rank  \n",
      "0   11.0  \n",
      "1  154.0  \n",
      "2  168.0  \n",
      "3  138.0  \n",
      "4   89.5  \n"
     ]
    }
   ],
   "source": [
    "# Ranking Sales by Region and by Gender\n",
    "df['rank'] = df.groupby(['region', 'gender'])['sales'].rank(ascending=False)\n",
    "print(df.head())"
   ]
  },
  {
   "cell_type": "code",
   "execution_count": null,
   "id": "22bd3474-8719-4bfc-a966-ed728ac56c42",
   "metadata": {},
   "outputs": [],
   "source": []
  }
 ],
 "metadata": {
  "kernelspec": {
   "display_name": "Python 3 (ipykernel)",
   "language": "python",
   "name": "python3"
  },
  "language_info": {
   "codemirror_mode": {
    "name": "ipython",
    "version": 3
   },
   "file_extension": ".py",
   "mimetype": "text/x-python",
   "name": "python",
   "nbconvert_exporter": "python",
   "pygments_lexer": "ipython3",
   "version": "3.12.4"
  }
 },
 "nbformat": 4,
 "nbformat_minor": 5
}
